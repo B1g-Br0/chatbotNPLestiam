{
 "cells": [
  {
   "cell_type": "code",
   "execution_count": 1,
   "id": "703bbefb",
   "metadata": {},
   "outputs": [
    {
     "name": "stdout",
     "output_type": "stream",
     "text": [
      "Requirement already satisfied: openai in c:\\users\\almen\\anaconda3\\lib\\site-packages (1.12.0)\n",
      "Requirement already satisfied: anyio<5,>=3.5.0 in c:\\users\\almen\\anaconda3\\lib\\site-packages (from openai) (3.5.0)\n",
      "Requirement already satisfied: distro<2,>=1.7.0 in c:\\users\\almen\\anaconda3\\lib\\site-packages (from openai) (1.9.0)\n",
      "Requirement already satisfied: httpx<1,>=0.23.0 in c:\\users\\almen\\anaconda3\\lib\\site-packages (from openai) (0.27.0)\n",
      "Requirement already satisfied: pydantic<3,>=1.9.0 in c:\\users\\almen\\anaconda3\\lib\\site-packages (from openai) (1.10.12)\n",
      "Requirement already satisfied: sniffio in c:\\users\\almen\\anaconda3\\lib\\site-packages (from openai) (1.2.0)\n",
      "Requirement already satisfied: tqdm>4 in c:\\users\\almen\\anaconda3\\lib\\site-packages (from openai) (4.65.0)\n",
      "Requirement already satisfied: typing-extensions<5,>=4.7 in c:\\users\\almen\\anaconda3\\lib\\site-packages (from openai) (4.9.0)\n",
      "Requirement already satisfied: idna>=2.8 in c:\\users\\almen\\anaconda3\\lib\\site-packages (from anyio<5,>=3.5.0->openai) (3.4)\n",
      "Requirement already satisfied: certifi in c:\\users\\almen\\anaconda3\\lib\\site-packages (from httpx<1,>=0.23.0->openai) (2024.2.2)\n",
      "Requirement already satisfied: httpcore==1.* in c:\\users\\almen\\anaconda3\\lib\\site-packages (from httpx<1,>=0.23.0->openai) (1.0.4)\n",
      "Requirement already satisfied: h11<0.15,>=0.13 in c:\\users\\almen\\anaconda3\\lib\\site-packages (from httpcore==1.*->httpx<1,>=0.23.0->openai) (0.14.0)\n",
      "Requirement already satisfied: colorama in c:\\users\\almen\\anaconda3\\lib\\site-packages (from tqdm>4->openai) (0.4.6)\n",
      "Note: you may need to restart the kernel to use updated packages.\n"
     ]
    }
   ],
   "source": [
    "pip install openai"
   ]
  },
  {
   "cell_type": "code",
   "execution_count": 2,
   "id": "1ab29002",
   "metadata": {},
   "outputs": [],
   "source": [
    "import requests\n",
    "import json"
   ]
  },
  {
   "cell_type": "code",
   "execution_count": 3,
   "id": "17b42320",
   "metadata": {},
   "outputs": [
    {
     "name": "stdout",
     "output_type": "stream",
     "text": [
      "{'error': {'message': 'Incorrect API key provided: <Your AP**key>. You can find your API key at https://platform.openai.com/account/api-keys.', 'type': 'invalid_request_error', 'param': None, 'code': 'invalid_api_key'}}\n"
     ]
    }
   ],
   "source": [
    "data = {\n",
    "  \"model\": \"gpt-3.5-turbo\",\n",
    "  \"messages\": [{\"role\": \"user\", \"content\": \"Say this is a test!\"}],\n",
    "  \"temperature\": 0.7\n",
    "}\n",
    "\n",
    "headers = {\n",
    "  'Content-Type': 'application/json',\n",
    "  'Authorization': 'Bearer |Your API key|'\n",
    "}\n",
    "\n",
    "response = requests.post('https://api.openai.com/v1/chat/completions', headers=headers, data=json.dumps(data))\n",
    "\n",
    "print(response.json())"
   ]
  },
  {
   "cell_type": "code",
   "execution_count": 4,
   "id": "234349d2",
   "metadata": {},
   "outputs": [],
   "source": [
    "import os\n",
    "\n",
    "# replace 'your-api-key-here' with your actual API key\n",
    "os.environ['OPENAI_API_KEY'] = '|Your API key|'"
   ]
  },
  {
   "cell_type": "code",
   "execution_count": 5,
   "id": "222e1e59",
   "metadata": {
    "scrolled": true
   },
   "outputs": [
    {
     "name": "stdout",
     "output_type": "stream",
     "text": [
      "{'error': {'message': 'Incorrect API key provided: <Your AP**key>. You can find your API key at https://platform.openai.com/account/api-keys.', 'type': 'invalid_request_error', 'param': None, 'code': 'invalid_api_key'}}\n"
     ]
    }
   ],
   "source": [
    "import requests\n",
    "import json\n",
    "\n",
    "# replace 'your-api-key-here' with your actual API key\n",
    "headers = {\n",
    "  'Content-Type': 'application/json',\n",
    "  'Authorization': 'Bearer ' + os.environ['OPENAI_API_KEY']\n",
    "}\n",
    "\n",
    "data = {\n",
    "  \"model\": \"gpt-3.5-turbo\",\n",
    "  \"messages\": [{\"role\": \"user\", \"content\": \"What's the weather like today?\"}],\n",
    "  \"temperature\": 0.7\n",
    "}\n",
    "\n",
    "response = requests.post('https://api.openai.com/v1/chat/completions', headers=headers, data=json.dumps(data))\n",
    "\n",
    "print(response.json())"
   ]
  },
  {
   "cell_type": "code",
   "execution_count": 6,
   "id": "4b5a8328",
   "metadata": {},
   "outputs": [],
   "source": [
    "def get_chatbot_response(user_message):\n",
    "    data = {\n",
    "        \"model\": \"gpt-3.5-turbo\",\n",
    "        \"messages\": [{\"role\": \"user\", \"content\": user_message}],\n",
    "        \"temperature\": 0.7\n",
    "    }\n",
    "    response = requests.post('https://api.openai.com/v1/chat/completions', headers=headers, data=json.dumps(data))\n",
    "    return response.json()"
   ]
  },
  {
   "cell_type": "code",
   "execution_count": 7,
   "id": "4120a760",
   "metadata": {},
   "outputs": [],
   "source": [
    "conversation_history = []\n",
    "\n",
    "def get_chatbot_response(user_message, conversation_history):\n",
    "    # Append the user's message to the conversation history\n",
    "    conversation_history.append({\"role\": \"user\", \"content\": user_message})\n",
    "    \n",
    "    # Prepare the data payload for the API request\n",
    "    data = {\n",
    "        \"model\": \"gpt-3.5-turbo\",\n",
    "        \"messages\": conversation_history,\n",
    "        \"temperature\": 0.7\n",
    "    }\n",
    "    \n",
    "    # Make the API request\n",
    "    response = requests.post('https://api.openai.com/v1/chat/completions', headers=headers, data=json.dumps(data))\n",
    "    \n",
    "    # Extract the bot's message from the response\n",
    "    bot_message = response.json()['choices'][0]['message']['content']\n",
    "    \n",
    "    # Append the bot's message to the conversation history\n",
    "    conversation_history.append({\"role\": \"system\", \"content\": bot_message})\n",
    "    \n",
    "    # Parse the bot's message to determine its type and format accordingly\n",
    "    if \"conseil d'entretien\" in bot_message.lower():\n",
    "        # Format as a tip\n",
    "        formatted_message = f\"💡 Tip: {bot_message}\"\n",
    "    elif \" ?\" in bot_message:\n",
    "        # Format as a follow-up question\n",
    "        formatted_message = f\"🤔 {bot_message}\"\n",
    "    else:\n",
    "        # Format as a standard response\n",
    "        formatted_message = bot_message\n",
    "    \n",
    "    # Return the formatted message\n",
    "    return formatted_message\n"
   ]
  },
  {
   "cell_type": "code",
   "execution_count": 8,
   "id": "d74801a6",
   "metadata": {},
   "outputs": [
    {
     "data": {
      "application/vnd.jupyter.widget-view+json": {
       "model_id": "9e69bd6f53d94fbbb5d40e9fb8b2b16a",
       "version_major": 2,
       "version_minor": 0
      },
      "text/plain": [
       "Text(value='', description='You:')"
      ]
     },
     "metadata": {},
     "output_type": "display_data"
    },
    {
     "data": {
      "application/vnd.jupyter.widget-view+json": {
       "model_id": "8d422a8fc80b4c31ae5ee7e7a1aae40b",
       "version_major": 2,
       "version_minor": 0
      },
      "text/plain": [
       "Button(description='Submit', style=ButtonStyle())"
      ]
     },
     "metadata": {},
     "output_type": "display_data"
    },
    {
     "data": {
      "application/vnd.jupyter.widget-view+json": {
       "model_id": "a33c881b92934851a5563852ce8e8f77",
       "version_major": 2,
       "version_minor": 0
      },
      "text/plain": [
       "Output()"
      ]
     },
     "metadata": {},
     "output_type": "display_data"
    }
   ],
   "source": [
    "import ipywidgets as widgets\n",
    "from IPython.display import display, clear_output\n",
    "\n",
    "# Create the text input widget for user responses\n",
    "text_input = widgets.Text(description='You:')\n",
    "\n",
    "# Create a button to submit the response\n",
    "submit_button = widgets.Button(description='Submit')\n",
    "\n",
    "# Create an output widget to display the chatbot's response\n",
    "output = widgets.Output()\n",
    "\n",
    "# Define the event handler for the button click\n",
    "def on_submit_button_clicked(b):\n",
    "    with output:\n",
    "        # Instead of clear_output(), we append the new messages to the output\n",
    "        user_input = text_input.value  # Get the current value from the text input widget\n",
    "        if user_input.lower() == 'exit':  # If the user types 'exit', end the chat\n",
    "            print(\"Exiting the chat.\")\n",
    "            return\n",
    "        # Call your chatbot function to get the response\n",
    "        response = get_chatbot_response(user_input, conversation_history)\n",
    "        # Display the user's input and the chatbot's response in the output widget\n",
    "        print(f\"You: {user_input}\")\n",
    "        print(f\"Bot: {response}\")\n",
    "        text_input.value = ''  # Clear the input field for the next message\n",
    "\n",
    "# Attach the event handler to the button\n",
    "submit_button.on_click(on_submit_button_clicked)\n",
    "\n",
    "# Display the widgets\n",
    "display(text_input, submit_button, output)\n",
    "\n",
    "# Initialize the conversation history\n",
    "conversation_history = []\n",
    "\n",
    "# Now, instead of using input() and print(), the user will interact with the chatbot\n",
    "# through the text_input and submit_button widgets, and the responses will be shown in the output widget."
   ]
  },
  {
   "cell_type": "raw",
   "id": "c3f63ea7",
   "metadata": {},
   "source": []
  }
 ],
 "metadata": {
  "kernelspec": {
   "display_name": "Python 3 (ipykernel)",
   "language": "python",
   "name": "python3"
  },
  "language_info": {
   "codemirror_mode": {
    "name": "ipython",
    "version": 3
   },
   "file_extension": ".py",
   "mimetype": "text/x-python",
   "name": "python",
   "nbconvert_exporter": "python",
   "pygments_lexer": "ipython3",
   "version": "3.11.4"
  }
 },
 "nbformat": 4,
 "nbformat_minor": 5
}
